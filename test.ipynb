{
 "cells": [
  {
   "cell_type": "code",
   "execution_count": 1,
   "metadata": {},
   "outputs": [
    {
     "name": "stderr",
     "output_type": "stream",
     "text": [
      "2024-07-30 21:24:04,380 DEBUG: Created a Sender to destination (localhost 2000)\n",
      "2024-07-30 21:24:04,381 DEBUG: Attempting to establish connection, sending SYN\n",
      "2024-07-30 21:24:04,382 DEBUG: Reveiced SYNACK\n",
      "2024-07-30 21:24:04,382 DEBUG: Connection established on sender side. sending ACK\n",
      "2024-07-30 21:24:04,383 DEBUG: Sending string of length 64, split into 7 segments\n",
      "2024-07-30 21:24:04,384 DEBUG: Created window ['AAAAAAAAAA']\n",
      "2024-07-30 21:24:04,385 DEBUG: Sent packet with seq # 0\n",
      "2024-07-30 21:24:04,385 DEBUG: Received ACK for segment number 0\n",
      "2024-07-30 21:24:04,386 DEBUG: Created window ['BBBBBBBBBB', 'CCCCCCCCCC']\n",
      "2024-07-30 21:24:04,386 DEBUG: Sent packet with seq # 1\n",
      "2024-07-30 21:24:04,387 DEBUG: Sent packet with seq # 2\n",
      "2024-07-30 21:24:04,388 DEBUG: Received ACK for segment number 1\n",
      "2024-07-30 21:24:04,389 DEBUG: Received ACK for segment number 2\n",
      "2024-07-30 21:24:04,389 DEBUG: Created window ['DDDDDDDDDD', 'EEEEEEEEEE', 'FFFFFFFFFF']\n",
      "2024-07-30 21:24:04,389 DEBUG: Sent packet with seq # 3\n",
      "2024-07-30 21:24:04,390 DEBUG: Sent packet with seq # 4\n",
      "2024-07-30 21:24:04,390 DEBUG: Sent packet with seq # 5\n",
      "2024-07-30 21:24:04,391 DEBUG: Received ACK for segment number 3\n",
      "2024-07-30 21:24:04,391 DEBUG: Received ACK for segment number 4\n",
      "2024-07-30 21:24:04,392 DEBUG: Received ACK for segment number 5\n",
      "2024-07-30 21:24:04,392 DEBUG: Created window ['GGGG']\n",
      "2024-07-30 21:24:04,392 DEBUG: Sent packet with seq # 6\n",
      "2024-07-30 21:24:05,394 DEBUG: Timeout occurred, setting window size to 2\n",
      "2024-07-30 21:24:05,394 DEBUG: Created window ['GGGG']\n",
      "2024-07-30 21:24:05,395 DEBUG: Sent packet with seq # 6\n",
      "2024-07-30 21:24:05,396 DEBUG: Received ACK for segment number 6\n",
      "2024-07-30 21:24:05,397 DEBUG: Transfer finished, sending FIN\n"
     ]
    }
   ],
   "source": [
    "import threading\n",
    "import time\n",
    "from Sender import Sender\n",
    "from Receiver import Receiver\n",
    "\n",
    "data = 'AAAAAAAAAABBBBBBBBBBCCCCCCCCCCDDDDDDDDDDEEEEEEEEEEFFFFFFFFFFGGGG'\n",
    "\n",
    "sender = Sender(\n",
    "    receiver_ip='localhost',\n",
    "    corruption_prob = 0.1\n",
    ")\n",
    "\n",
    "sender.send(data)\n",
    "\n",
    "# # Run the receiver\n",
    "# def run_receiver():\n",
    "#     receiver = Receiver(receiver_port=2000, MSS=10)\n",
    "#     receiver.receive()\n",
    "\n",
    "# # Run the sender\n",
    "# def run_sender(data):\n",
    "#     sender = Sender(receiver_ip='127.0.0.1', receiver_port=2000, MSS=10)\n",
    "#     sender.send(data)\n",
    "\n",
    "# # Start the receiver in a separate thread\n",
    "# receiver_thread = threading.Thread(target=run_receiver)\n",
    "# receiver_thread.start()\n",
    "\n",
    "# # receiver start\n",
    "# time.sleep(1)\n",
    "\n",
    "# Start the sender in the main thread\n",
    "# data_to_send = \"123456789 123456789 123456789 123456789 123456789 123456789 123\"\n",
    "# sender_thread = threading.Thread(target=run_sender, args=(data_to_send,))\n",
    "# sender_thread.start()\n",
    "\n",
    "# sender_thread.join()\n",
    "\n",
    "# time.sleep(2)\n",
    "\n",
    "# receiver_thread.join()\n",
    "\n",
    "# print(\"Test completed.\")\n"
   ]
  },
  {
   "cell_type": "code",
   "execution_count": null,
   "metadata": {},
   "outputs": [],
   "source": []
  }
 ],
 "metadata": {
  "kernelspec": {
   "display_name": "Python 3",
   "language": "python",
   "name": "python3"
  },
  "language_info": {
   "codemirror_mode": {
    "name": "ipython",
    "version": 3
   },
   "file_extension": ".py",
   "mimetype": "text/x-python",
   "name": "python",
   "nbconvert_exporter": "python",
   "pygments_lexer": "ipython3",
   "version": "3.10.12"
  }
 },
 "nbformat": 4,
 "nbformat_minor": 2
}
